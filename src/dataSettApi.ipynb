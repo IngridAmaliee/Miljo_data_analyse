{
 "cells": [
  {
   "cell_type": "code",
   "execution_count": 14,
   "metadata": {},
   "outputs": [
    {
     "name": "stdout",
     "output_type": "stream",
     "text": [
      "API-nøkkelen ble lastet inn!\n",
      "Data retrieved from frost.met.no!\n",
      "Data saved to 'data/observations_data.json'\n"
     ]
    }
   ],
   "source": [
    "import requests\n",
    "import pandas as pd\n",
    "import os\n",
    "from dotenv import load_dotenv\n",
    "import json\n",
    "\n",
    "# Spesifiser stien til .env-filen (hvis den ligger i hovedmappen \"anvendt_prosjekt\")\n",
    "load_dotenv(dotenv_path=os.path.join(os.getcwd(), 'anvendt_prosjekt', '.env'))\n",
    "\n",
    "# Hent API-nøkkelen fra miljøvariablene\n",
    "api_key = os.getenv('API_KEY_FROST')\n",
    "\n",
    "# Sjekk om API-nøkkelen ble lastet inn\n",
    "if api_key:\n",
    "    print(\"API-nøkkelen ble lastet inn!\")\n",
    "else:\n",
    "    print(\"API-nøkkelen ble ikke funnet i .env-filen.\")\n",
    "\n",
    "# Endepunkt for API-et\n",
    "endpoint = 'https://frost.met.no/observations/v0.jsonld'\n",
    "\n",
    "parameters = {\n",
    "    'sources': 'SN50540',\n",
    "    'elements': [\n",
    "        \"over_time(humidity_mixing_ratio P1D)\",\n",
    "        \"over_time(precipitation_type_visual P1D)\",\n",
    "        \"mean_k(air_temperature P1D)\"\n",
    "    ],\n",
    "    'referencetime': '2010-01-01/2015-01-01',\n",
    "}\n",
    "\n",
    "# Utfør HTTP GET-forespørsel\n",
    "r = requests.get(endpoint, parameters, auth=(api_key, \"\"))\n",
    "\n",
    "# Sjekk om forespørselen fungerte, og skriv ut eventuelle feil\n",
    "if r.status_code == 200:\n",
    "    json_data = r.json()\n",
    "    print('Data retrieved from frost.met.no!')\n",
    "else:\n",
    "    print('Error! Returned status code %s' % r.status_code)\n",
    "    print('Message: %s' % json_data['error']['message'])\n",
    "    print('Reason: %s' % json_data['error']['reason'])\n",
    "\n",
    "# Opprett DataFrame fra JSON-data\n",
    "data = json_data['data']\n",
    "df = pd.DataFrame()\n",
    "\n",
    "for i in range(len(data)):\n",
    "    row = pd.DataFrame(data[i]['observations'])\n",
    "    row['referenceTime'] = data[i]['referenceTime']\n",
    "    row['sourceId'] = data[i]['sourceId']\n",
    "    df = pd.concat([df, row], ignore_index=True)\n",
    "\n",
    "# Tilbakestill indeksen på DataFrame\n",
    "df = df.reset_index()\n",
    "\n",
    "# Sjekk om mappen \"data\" finnes, hvis ikke opprett den\n",
    "if not os.path.exists('data'):\n",
    "    os.makedirs('data')\n",
    "\n",
    "# Lagre JSON-data i en fil i mappen \"data\"\n",
    "json_file_path = 'data/observations_data.json'\n",
    "\n",
    "# Lagre data til fil\n",
    "with open(json_file_path, 'w') as json_file:\n",
    "    json.dump(json_data, json_file, indent=4)\n",
    "\n",
    "print(f\"Data saved to '{json_file_path}'\")\n"
   ]
  }
 ],
 "metadata": {
  "kernelspec": {
   "display_name": "venv",
   "language": "python",
   "name": "python3"
  },
  "language_info": {
   "codemirror_mode": {
    "name": "ipython",
    "version": 3
   },
   "file_extension": ".py",
   "mimetype": "text/x-python",
   "name": "python",
   "nbconvert_exporter": "python",
   "pygments_lexer": "ipython3",
   "version": "3.12.9"
  }
 },
 "nbformat": 4,
 "nbformat_minor": 2
}
