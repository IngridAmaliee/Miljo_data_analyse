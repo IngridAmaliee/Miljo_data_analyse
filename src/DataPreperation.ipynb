{
 "cells": [
  {
   "cell_type": "code",
   "execution_count": 7,
   "metadata": {},
   "outputs": [
    {
     "name": "stdout",
     "output_type": "stream",
     "text": [
      "Det er ingen uteliggere for 'max_temp' basert på de angitte grensene.\n"
     ]
    }
   ],
   "source": [
    "import json\n",
    "import numpy as np\n",
    "\n",
    "def find_outliers_in_weather_data(file_path, data_key='max_temp'):\n",
    "    \"\"\"\n",
    "    Funksjon for å finne uteliggere i en værdatafil basert på en spesifikk nøkkel (data_key).\n",
    "    Args:\n",
    "    - file_path (str): Stien til JSON-filen som inneholder værdata.\n",
    "    - data_key (str): Nøkkelen for dataene som skal sjekkes (for eksempel 'max_temp').\n",
    "    \n",
    "    Returns:\n",
    "    - List of outliers if any, else None\n",
    "    \"\"\"\n",
    "    try:\n",
    "        # Åpne og les JSON-filen\n",
    "        with open(file_path, 'r') as file:\n",
    "            data = json.load(file)\n",
    "        \n",
    "        # Ekstraher verdiene for den spesifikke nøkkelen (for eksempel max_temp), hopp over None verdier\n",
    "        sample_data_with_outliers = np.array([entry[data_key] for entry in data if entry[data_key] is not None])\n",
    "\n",
    "        # Sett grenseverdier direkte\n",
    "        lower_limit = -50\n",
    "        upper_limit = 50\n",
    "\n",
    "        # Finn uteliggere ved å bruke grenseverdiene\n",
    "        outliers = sample_data_with_outliers[(sample_data_with_outliers < lower_limit) | (sample_data_with_outliers > upper_limit)]\n",
    "\n",
    "        if len(outliers) > 0:\n",
    "            return outliers\n",
    "        else:\n",
    "            print(f\"Det er ingen uteliggere for '{data_key}' basert på de angitte grensene.\")\n",
    "            return None\n",
    "    except Exception as e:\n",
    "        print(f\"Feil ved behandling av filen: {e}\")\n",
    "        return None\n",
    "\n",
    "# Eksempel på hvordan du kan bruke funksjonen:\n",
    "file_path = r'C:\\anvendt_prog\\Anvendt_prosjekt\\data\\london_weather.json'\n",
    "outliers = find_outliers_in_weather_data(file_path, data_key='max_temp')\n",
    "\n",
    "# Skriv ut uteliggerne\n",
    "if outliers is not None:\n",
    "    print(\"Outliers:\", outliers)\n"
   ]
  },
  {
   "cell_type": "code",
   "execution_count": 8,
   "metadata": {},
   "outputs": [
    {
     "name": "stdout",
     "output_type": "stream",
     "text": [
      "Det er ingen uteliggere for 'min_temp' basert på de angitte grensene.\n"
     ]
    }
   ],
   "source": [
    "# Eksempel på hvordan du kan bruke funksjonen for min_temp\n",
    "file_path = r'C:\\anvendt_prog\\Anvendt_prosjekt\\data\\london_weather.json'\n",
    "outliers = find_outliers_in_weather_data(file_path, data_key='min_temp')\n",
    "\n",
    "# Skriv ut uteliggerne\n",
    "if outliers is not None:\n",
    "    print(\"Outliers for min_temp:\", outliers)\n"
   ]
  }
 ],
 "metadata": {
  "kernelspec": {
   "display_name": "venv",
   "language": "python",
   "name": "python3"
  },
  "language_info": {
   "codemirror_mode": {
    "name": "ipython",
    "version": 3
   },
   "file_extension": ".py",
   "mimetype": "text/x-python",
   "name": "python",
   "nbconvert_exporter": "python",
   "pygments_lexer": "ipython3",
   "version": "3.12.9"
  }
 },
 "nbformat": 4,
 "nbformat_minor": 2
}
