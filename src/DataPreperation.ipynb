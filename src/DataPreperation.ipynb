{
 "cells": [
  {
   "cell_type": "code",
   "execution_count": null,
   "metadata": {},
   "outputs": [],
   "source": [
    "\n",
    "# kode som finner utliggere i london weather filen\n",
    "import json\n",
    "import numpy as np\n",
    "\n",
    "# Åpne og les JSON-filen manuelt\n",
    "with open('C:\\anvendt_prog\\Anvendt_prosjekt\\data\\london_weather.json', 'r') as file:\n",
    "    data = json.load(file)\n",
    "\n",
    "# Ekstraher relevant data (for eksempel fra en liste med dictionaries)\n",
    "sample_data_with_outliers = np.array([entry['value'] for entry in data])\n",
    "\n",
    "# Beregn gjennomsnitt og standardavvik\n",
    "mean = np.mean(sample_data_with_outliers)\n",
    "std_dev = np.std(sample_data_with_outliers)\n",
    "\n",
    "# Definer grenseverdier\n",
    "threshold = 2\n",
    "lower_limit = mean - threshold * std_dev\n",
    "upper_limit = mean + threshold * std_dev\n",
    "\n",
    "# Finn uteliggere ved å bruke NumPy\n",
    "outliers = sample_data_with_outliers[(sample_data_with_outliers < lower_limit) | (sample_data_with_outliers > upper_limit)]\n",
    "\n",
    "# Skriv ut uteliggerne\n",
    "print(\"Outliers:\", outliers)\n"
   ]
  }
 ],
 "metadata": {
  "kernelspec": {
   "display_name": "venv",
   "language": "python",
   "name": "python3"
  },
  "language_info": {
   "name": "python",
   "version": "3.12.9"
  }
 },
 "nbformat": 4,
 "nbformat_minor": 2
}
