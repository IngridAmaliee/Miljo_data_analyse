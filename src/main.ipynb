{
 "cells": [
  {
   "cell_type": "markdown",
   "metadata": {},
   "source": [
    "# Fraamstiling av dataanalyse prosjekt\n",
    "\n",
    "I denne notenooken finner du er visuell representasjon av dataen vi har innsamlet, sammen med vurderinger og konklusjoner rundt funnene vi har gjort\n"
   ]
  },
  {
   "cell_type": "markdown",
   "metadata": {},
   "source": [
    "## Del 1 - Datainnsamling"
   ]
  },
  {
   "cell_type": "code",
   "execution_count": 2,
   "metadata": {},
   "outputs": [
    {
     "name": "stdout",
     "output_type": "stream",
     "text": [
      "API-nøkkel funnet og data sett lastet inn!\n",
      "Data saved to 'c:\\anvendt_prog\\Anvendt_prosjekt\\data\\observations_data.json'\n",
      "Data saved to 'c:\\anvendt_prog\\Anvendt_prosjekt\\data\\observations_data.json'\n"
     ]
    }
   ],
   "source": [
    "import os\n",
    "from dotenv import load_dotenv\n",
    "\n",
    "# Last .env fra src-mappen (der notebook og .env ligger)\n",
    "load_dotenv(dotenv_path=os.path.join(os.getcwd(), '.env'))\n",
    "\n",
    "import sys\n",
    "sys.path.append(os.getcwd())\n",
    "from FrostBlindern import hent_og_lagre_data\n",
    "\n",
    "# Patch exit for notebook\n",
    "import builtins\n",
    "builtins.exit = lambda code=0: (_ for _ in ()).throw(SystemExit(code))\n",
    "\n",
    "# Kjør funksjonen uten å vise returverdien\n",
    "_= hent_og_lagre_data()"
   ]
  },
  {
   "cell_type": "code",
   "execution_count": null,
   "metadata": {},
   "outputs": [],
   "source": []
  }
 ],
 "metadata": {
  "kernelspec": {
   "display_name": "venv",
   "language": "python",
   "name": "python3"
  },
  "language_info": {
   "codemirror_mode": {
    "name": "ipython",
    "version": 3
   },
   "file_extension": ".py",
   "mimetype": "text/x-python",
   "name": "python",
   "nbconvert_exporter": "python",
   "pygments_lexer": "ipython3",
   "version": "3.12.10"
  }
 },
 "nbformat": 4,
 "nbformat_minor": 2
}
