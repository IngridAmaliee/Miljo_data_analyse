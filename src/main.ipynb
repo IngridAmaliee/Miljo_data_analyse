{
 "cells": [
  {
   "cell_type": "markdown",
   "metadata": {},
   "source": [
    "Henter innsamlett data\n",
    "\n"
   ]
  },
  {
   "cell_type": "markdown",
   "metadata": {},
   "source": [
    "oversikt over forskjellig type skrift\n",
    "\n",
    "# OVERSKRIFT størst\n",
    "\n",
    "## Overskrift mindre\n",
    "\n",
    "### Overskrift minst\n",
    "\n",
    "\n",
    "Fet\t**tekst**\tfet tekst\n",
    "\n",
    "Kursiv\t*tekst*\tkursiv tekst\n",
    "\n",
    "Begge\t***tekst***\tfet og kursiv"
   ]
  },
  {
   "cell_type": "code",
   "execution_count": null,
   "metadata": {},
   "outputs": [],
   "source": []
  },
  {
   "cell_type": "code",
   "execution_count": null,
   "metadata": {},
   "outputs": [],
   "source": [
    "\n"
   ]
  }
 ],
 "metadata": {
  "kernelspec": {
   "display_name": "venv",
   "language": "python",
   "name": "python3"
  },
  "language_info": {
   "codemirror_mode": {
    "name": "ipython",
    "version": 3
   },
   "file_extension": ".py",
   "mimetype": "text/x-python",
   "name": "python",
   "nbconvert_exporter": "python",
   "pygments_lexer": "ipython3",
   "version": "3.12.9"
  }
 },
 "nbformat": 4,
 "nbformat_minor": 2
}
