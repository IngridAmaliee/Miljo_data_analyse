{
 "cells": [
  {
   "cell_type": "markdown",
   "metadata": {},
   "source": [
    "# 🌦️Framstiling av værdataanalyse\n",
    "\n",
    "I denne notebooken finner du er visuell representasjon av dataen vi har innsamlet, sammen med vurderinger og konklusjoner rundt funnene vi har gjort\n",
    "\n",
    "Innholdsfortegnelse:\n",
    "\n",
    "[DEl 1 - Datainnsamling](del-1---datainnsamling)"
   ]
  },
  {
   "cell_type": "markdown",
   "metadata": {},
   "source": [
    "---\n",
    "### 📊Del 1 - Datainnsamling\n",
    "\n",
    "Denne delen består at tre funskjoner som vi har brukt for å hente data fra Frost og Kaggle, den første koden henter fra Frost, her har vi hentet data ved hjelp av en API-nøkkel. Det siste datasetett er lastet ned lokalt som en CSV, men vi ønsket å gjøre den om til en JSON fil slik at det ble lettere for oss å lese og håndere filen.\n",
    "\n",
    "For å se kodene bak funksjonene ligger de i \n",
    "\n",
    "🔗 [FrostBlindern.py](./FrostBlindern.py)\n",
    "🔗 [KaggleLondon.py](./KaggleLondon.py)\n",
    "🔗 [KaggleBoston.py](./KaggleBoston.py)\n",
    "\n"
   ]
  },
  {
   "cell_type": "code",
   "execution_count": 5,
   "metadata": {},
   "outputs": [
    {
     "name": "stdout",
     "output_type": "stream",
     "text": [
      "API-nøkkel funnet og data sett lastet inn!\n",
      "Data saved to 'c:\\anvendt_prog\\Anvendt_prosjekt\\data\\observations_data.json'\n"
     ]
    }
   ],
   "source": [
    "import os\n",
    "from dotenv import load_dotenv\n",
    "\n",
    "#Henter og lagere værdata fra Blindern\n",
    "\n",
    "# Last .env fra src-mappen (der notebook og .env ligger)\n",
    "load_dotenv(dotenv_path=os.path.join(os.getcwd(), '.env'))\n",
    "\n",
    "import sys\n",
    "sys.path.append(os.getcwd())\n",
    "from FrostBlindern import hent_og_lagre_data\n",
    "\n",
    "# Patch exit for notebook\n",
    "import builtins\n",
    "builtins.exit = lambda code=0: (_ for _ in ()).throw(SystemExit(code))\n",
    "\n",
    "# Kjør funksjonen uten å vise returverdien\n",
    "_= hent_og_lagre_data()"
   ]
  },
  {
   "cell_type": "code",
   "execution_count": 6,
   "metadata": {},
   "outputs": [
    {
     "name": "stdout",
     "output_type": "stream",
     "text": [
      "Boston-data er hentet og lagret i data-mappen!\n"
     ]
    }
   ],
   "source": [
    "# Henter og lagrer værdata fra Boston i en CSV\n",
    "import sys\n",
    "import os\n",
    "\n",
    "# Sørg for at data-mappen utenfor src eksisterer før du lagrer CSV\n",
    "project_root = os.path.abspath(os.path.join(os.getcwd(), '..'))\n",
    "data_dir = os.path.join(project_root, 'data')\n",
    "os.makedirs(data_dir, exist_ok=True)\n",
    "\n",
    "sys.path.append(os.getcwd())\n",
    "from KaggleBoston import hent_boston_data_csv\n",
    "\n",
    "# Filnavn skal kun være filnavn, ikke path, siden funksjonen lager path selv\n",
    "hent_boston_data_csv(\"BostonData2.csv\", start_aar=2013, slutt_aar=2023)"
   ]
  },
  {
   "cell_type": "code",
   "execution_count": 7,
   "metadata": {},
   "outputs": [
    {
     "name": "stdout",
     "output_type": "stream",
     "text": [
      "Konvertert til JSON og lagret som c:\\anvendt_prog\\Anvendt_prosjekt\\data\\london_weather.json\n"
     ]
    }
   ],
   "source": [
    "import sys\n",
    "import os\n",
    "\n",
    "# Bruk korrekt relativ sti til data-mappen utenfor src\n",
    "csv_path = os.path.abspath(os.path.join(\"..\", \"data\", \"london_weather.csv\"))\n",
    "json_path = os.path.abspath(os.path.join(\"..\", \"data\", \"london_weather.json\"))\n",
    "\n",
    "if not os.path.exists(csv_path):\n",
    "    print(f\"Filen {csv_path} finnes ikke! Sjekk at du har lastet ned eller generert riktig CSV.\")\n",
    "else:\n",
    "    sys.path.append(os.getcwd())\n",
    "    from KaggleLondon import csv_til_json_london\n",
    "    csv_til_json_london(csv_path, json_path)"
   ]
  },
  {
   "cell_type": "markdown",
   "metadata": {},
   "source": [
    "---\n",
    "### Del 2 - Dataforbredelse"
   ]
  }
 ],
 "metadata": {
  "kernelspec": {
   "display_name": "venv",
   "language": "python",
   "name": "python3"
  },
  "language_info": {
   "codemirror_mode": {
    "name": "ipython",
    "version": 3
   },
   "file_extension": ".py",
   "mimetype": "text/x-python",
   "name": "python",
   "nbconvert_exporter": "python",
   "pygments_lexer": "ipython3",
   "version": "3.12.10"
  }
 },
 "nbformat": 4,
 "nbformat_minor": 2
}
