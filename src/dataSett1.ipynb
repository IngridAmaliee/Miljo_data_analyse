{
 "cells": [
  {
   "cell_type": "code",
   "execution_count": 11,
   "metadata": {},
   "outputs": [
    {
     "name": "stdout",
     "output_type": "stream",
     "text": [
      "Error! Returned status code 412\n",
      "Message: 412\n",
      "Reason: No time series found for this combination of parameters, check /observations/availableTimeSeries for more information.\n"
     ]
    }
   ],
   "source": [
    "import requests\n",
    "import pandas as pd\n",
    "\n",
    "# Insert your own client ID here\n",
    "client_id = 'ingriali@stud.ntnu.no'\n",
    "# Define endpoint and parameters\n",
    "endpoint = 'https://frost.met.no/observations/v0.jsonld'\n",
    "\n",
    "from datetime import datetime, timedelta\n",
    "parameters = {\n",
    "    'sources': 'SN90450',\n",
    "    'elements': 'max(snow_coverage_type P3M)',\n",
    "    'referencetime': '2020-01-01/2021-01-01',\n",
    "}\n",
    "\n",
    "\n",
    "# Issue an HTTP GET request\n",
    "r = requests.get(endpoint, parameters, auth=(\"f9d56ccf-fe79-45ff-970e-959f8e0de1e5\",\"\"))\n",
    "# Extract JSON data\n",
    "json = r.json()\n",
    "\n",
    "# Check if the request worked, print out any errors\n",
    "if r.status_code == 200:\n",
    "    data = json['data']\n",
    "    print('Data retrieved from frost.met.no!')\n",
    "else:\n",
    "    print('Error! Returned status code %s' % r.status_code)\n",
    "    print('Message: %s' % json['error']['message'])\n",
    "    print('Reason: %s' % json['error']['reason'])\n",
    "\n",
    "\n",
    "# This will return a Dataframe with all of the observations in a table format\n",
    "df = pd.DataFrame()\n",
    "for i in range(len(data)):\n",
    "    row = pd.DataFrame(data[i]['observations'])\n",
    "    row['referenceTime'] = data[i]['referenceTime']\n",
    "    row['sourceId'] = data[i]['sourceId']\n",
    "df = pd.concat([df, row], ignore_index=True)\n",
    "df = df.reset_index()\n",
    "\n"
   ]
  }
 ],
 "metadata": {
  "kernelspec": {
   "display_name": "venv",
   "language": "python",
   "name": "python3"
  },
  "language_info": {
   "codemirror_mode": {
    "name": "ipython",
    "version": 3
   },
   "file_extension": ".py",
   "mimetype": "text/x-python",
   "name": "python",
   "nbconvert_exporter": "python",
   "pygments_lexer": "ipython3",
   "version": "3.12.9"
  }
 },
 "nbformat": 4,
 "nbformat_minor": 2
}
