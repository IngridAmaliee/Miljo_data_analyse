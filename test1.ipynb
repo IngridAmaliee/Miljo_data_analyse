{
 "cells": [
  {
   "cell_type": "code",
   "execution_count": null,
   "metadata": {},
   "outputs": [],
   "source": [
    "#test123"
   ]
  },
  {
   "cell_type": "code",
   "execution_count": 1,
   "metadata": {},
   "outputs": [
    {
     "name": "stdout",
     "output_type": "stream",
     "text": [
      "Unexpected exception formatting exception. Falling back to standard exception\n"
     ]
    },
    {
     "name": "stderr",
     "output_type": "stream",
     "text": [
      "Traceback (most recent call last):\n",
      "  File \"/Users/evinehfagerhaug/Documents/GitHub/Miljo_data_analyse/.venv/lib/python3.9/site-packages/IPython/core/interactiveshell.py\", line 3550, in run_code\n",
      "  File \"/var/folders/dx/pqc8jdk53tz3jk_27w32v1lh0000gn/T/ipykernel_24678/1199363167.py\", line 2, in <module>\n",
      "    import matplotlib.pyplot as plt\n",
      "ModuleNotFoundError: No module named 'matplotlib'\n",
      "\n",
      "During handling of the above exception, another exception occurred:\n",
      "\n",
      "Traceback (most recent call last):\n",
      "  File \"/Users/evinehfagerhaug/Documents/GitHub/Miljo_data_analyse/.venv/lib/python3.9/site-packages/pygments/styles/__init__.py\", line 45, in get_style_by_name\n",
      "ModuleNotFoundError: No module named 'pygments.styles.default'\n",
      "\n",
      "During handling of the above exception, another exception occurred:\n",
      "\n",
      "Traceback (most recent call last):\n",
      "  File \"/Users/evinehfagerhaug/Documents/GitHub/Miljo_data_analyse/.venv/lib/python3.9/site-packages/IPython/core/interactiveshell.py\", line 2144, in showtraceback\n",
      "  File \"/Users/evinehfagerhaug/Documents/GitHub/Miljo_data_analyse/.venv/lib/python3.9/site-packages/IPython/core/ultratb.py\", line 1435, in structured_traceback\n",
      "  File \"/Users/evinehfagerhaug/Documents/GitHub/Miljo_data_analyse/.venv/lib/python3.9/site-packages/IPython/core/ultratb.py\", line 1326, in structured_traceback\n",
      "  File \"/Users/evinehfagerhaug/Documents/GitHub/Miljo_data_analyse/.venv/lib/python3.9/site-packages/IPython/core/ultratb.py\", line 1173, in structured_traceback\n",
      "  File \"/Users/evinehfagerhaug/Documents/GitHub/Miljo_data_analyse/.venv/lib/python3.9/site-packages/IPython/core/ultratb.py\", line 1063, in format_exception_as_a_whole\n",
      "  File \"/Users/evinehfagerhaug/Documents/GitHub/Miljo_data_analyse/.venv/lib/python3.9/site-packages/IPython/core/ultratb.py\", line 1114, in get_records\n",
      "  File \"/Users/evinehfagerhaug/Documents/GitHub/Miljo_data_analyse/.venv/lib/python3.9/site-packages/pygments/styles/__init__.py\", line 47, in get_style_by_name\n",
      "pygments.util.ClassNotFound: Could not find style module 'pygments.styles.default', though it should be builtin.\n"
     ]
    }
   ],
   "source": [
    "import json\n",
    "import matplotlib.pyplot as plt\n",
    "\n",
    "# Last inn JSON-data fra filen\n",
    "with open(\"testtilchat.txt\", \"r\", encoding=\"utf-8\") as file:\n",
    "    data = json.load(file)\n",
    "\n",
    "# Ekstraher forurensningskomponenter og deres enheter\n",
    "pollutants = [\"pm25_concentration\", \"pm10_concentration\", \"no2_concentration\", \"so2_concentration\", \"o3_concentration\"]\n",
    "values = []\n",
    "labels = []\n",
    "units = {}\n",
    "\n",
    "for pollutant in pollutants:\n",
    "    if pollutant in data[\"variables\"]:\n",
    "        labels.append(data[\"variables\"][pollutant][\"nameEN\"])\n",
    "        values.append(data[\"variables\"][pollutant][\"aqis\"][0][\"to\"])  # Henter grenseverdi for lav AQI\n",
    "        units[pollutant] = data[\"variables\"][pollutant][\"units\"]\n",
    "\n",
    "# Plot grafen\n",
    "plt.figure(figsize=(10, 6))\n",
    "plt.bar(labels, values, color=['green', 'yellow', 'orange', 'red', 'purple'])\n",
    "plt.xlabel(\"Pollutants\")\n",
    "plt.ylabel(\"Concentration Levels (µg/m³)\")\n",
    "plt.title(\"Air Quality Concentration Levels\")\n",
    "plt.show()\n"
   ]
  }
 ],
 "metadata": {
  "kernelspec": {
   "display_name": ".venv",
   "language": "python",
   "name": "python3"
  },
  "language_info": {
   "codemirror_mode": {
    "name": "ipython",
    "version": 3
   },
   "file_extension": ".py",
   "mimetype": "text/x-python",
   "name": "python",
   "nbconvert_exporter": "python",
   "pygments_lexer": "ipython3",
   "version": "3.9.6"
  }
 },
 "nbformat": 4,
 "nbformat_minor": 2
}
