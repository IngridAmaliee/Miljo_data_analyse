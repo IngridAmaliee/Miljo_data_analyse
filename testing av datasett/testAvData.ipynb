{
 "cells": [
  {
   "cell_type": "code",
   "execution_count": 3,
   "metadata": {},
   "outputs": [
    {
     "ename": "ParseError",
     "evalue": "not well-formed (invalid token): line 1, column 0 (<string>)",
     "output_type": "error",
     "traceback": [
      "Traceback \u001b[0;36m(most recent call last)\u001b[0m:\n",
      "\u001b[0m  File \u001b[1;32m~/Library/Mobile Documents/com~apple~CloudDocs/Downloads/TDT4114/Miljo_data_analyse/venv/lib/python3.9/site-packages/IPython/core/interactiveshell.py:3550\u001b[0m in \u001b[1;35mrun_code\u001b[0m\n    exec(code_obj, self.user_global_ns, self.user_ns)\u001b[0m\n",
      "\u001b[0m  Cell \u001b[1;32mIn[3], line 7\u001b[0m\n    tree = ET.parse(file_path)\u001b[0m\n",
      "\u001b[0m  File \u001b[1;32m/Library/Developer/CommandLineTools/Library/Frameworks/Python3.framework/Versions/3.9/lib/python3.9/xml/etree/ElementTree.py:1229\u001b[0m in \u001b[1;35mparse\u001b[0m\n    tree.parse(source, parser)\u001b[0m\n",
      "\u001b[0;36m  File \u001b[0;32m/Library/Developer/CommandLineTools/Library/Frameworks/Python3.framework/Versions/3.9/lib/python3.9/xml/etree/ElementTree.py:580\u001b[0;36m in \u001b[0;35mparse\u001b[0;36m\n\u001b[0;31m    self._root = parser._parse_whole(source)\u001b[0;36m\n",
      "\u001b[0;36m  File \u001b[0;32m<string>\u001b[0;36m\u001b[0m\n\u001b[0;31mParseError\u001b[0m\u001b[0;31m:\u001b[0m not well-formed (invalid token): line 1, column 0\n"
     ]
    }
   ],
   "source": [
    "import xml.etree.ElementTree as ET\n",
    "import matplotlib.pyplot as plt\n",
    "import datetime\n",
    "\n",
    "# Last inn XML-filen\n",
    "file_path = \"/Users/evinehfagerhaug/Library/Mobile Documents/com~apple~CloudDocs/Downloads/TDT4114/Miljo_data_analyse/testing av datasett/testData2.json\"\n",
    "tree = ET.parse(file_path)\n",
    "root = tree.getroot()\n",
    "\n",
    "# Ekstraher temperaturdata og tidspunkter\n",
    "times = []\n",
    "temperatures = []\n",
    "\n",
    "for time in root.findall(\".//time\"):\n",
    "    from_time = time.get(\"from\")  # Henter tidspunkt\n",
    "    temperature_element = time.find(\".//temperature\")\n",
    "    \n",
    "    if temperature_element is not None:\n",
    "        temp_value = float(temperature_element.get(\"value\"))\n",
    "        times.append(datetime.datetime.fromisoformat(from_time[:-1]))  # Fjerner 'Z' og konverterer til datetime\n",
    "        temperatures.append(temp_value)\n",
    "\n",
    "# Sorter dataene etter tid\n",
    "sorted_data = sorted(zip(times, temperatures), key=lambda x: x[0])\n",
    "times, temperatures = zip(*sorted_data)\n",
    "\n",
    "# Plot temperatur over tid\n",
    "plt.figure(figsize=(10, 5))\n",
    "plt.plot(times, temperatures, marker='o', linestyle='-', color='b', label='Temperatur (°C)')\n",
    "plt.xlabel(\"Tid\")\n",
    "plt.ylabel(\"Temperatur (°C)\")\n",
    "plt.title(\"Temperaturutvikling over tid\")\n",
    "plt.xticks(rotation=45)\n",
    "plt.legend()\n",
    "plt.grid()\n",
    "plt.show()\n"
   ]
  }
 ],
 "metadata": {
  "kernelspec": {
   "display_name": "venv",
   "language": "python",
   "name": "python3"
  },
  "language_info": {
   "codemirror_mode": {
    "name": "ipython",
    "version": 3
   },
   "file_extension": ".py",
   "mimetype": "text/x-python",
   "name": "python",
   "nbconvert_exporter": "python",
   "pygments_lexer": "ipython3",
   "version": "3.9.6"
  }
 },
 "nbformat": 4,
 "nbformat_minor": 2
}
